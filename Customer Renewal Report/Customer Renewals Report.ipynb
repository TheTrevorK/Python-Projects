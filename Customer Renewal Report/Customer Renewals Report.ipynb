{
 "cells": [
  {
   "attachments": {},
   "cell_type": "markdown",
   "metadata": {},
   "source": [
    "### Import Libraries"
   ]
  },
  {
   "cell_type": "code",
   "execution_count": null,
   "metadata": {},
   "outputs": [],
   "source": [
    "import pandas as pd \n",
    "import psycopg2\n",
    "from dotenv import load_dotenv\n",
    "import os\n",
    "import glob\n",
    "import openpyxl\n",
    "from openpyxl import Workbook\n",
    "from openpyxl.utils.dataframe import dataframe_to_rows\n",
    "from datetime import datetime\n",
    "import numpy as np"
   ]
  },
  {
   "cell_type": "code",
   "execution_count": null,
   "metadata": {},
   "outputs": [],
   "source": [
    "load_dotenv(\"credentials.env\")\n",
    "DATABASE = os.getenv('DATABASE')\n",
    "HOST = os.getenv('HOST')\n",
    "USER = os.getenv('USER')\n",
    "PASSWORD = os.getenv('PASSWORD')\n",
    "PORT = os.getenv('PORT')"
   ]
  },
  {
   "attachments": {},
   "cell_type": "markdown",
   "metadata": {},
   "source": [
    "### Query from DB"
   ]
  },
  {
   "cell_type": "code",
   "execution_count": null,
   "metadata": {},
   "outputs": [],
   "source": [
    "conn= psycopg2.connect(database=DATABASE,\n",
    "                       host= HOST,\n",
    "                       user=USER,\n",
    "                       password=PASSWORD,\n",
    "                       port=PORT)"
   ]
  },
  {
   "attachments": {},
   "cell_type": "markdown",
   "metadata": {},
   "source": [
    "#### Query (change to select date range)"
   ]
  },
  {
   "cell_type": "code",
   "execution_count": null,
   "metadata": {},
   "outputs": [],
   "source": [
    "date = 'sept2023'\n",
    "startdate = '2023-9-01'\n",
    "enddate =  '2023-9-30'\n",
    "\n",
    "cursor = conn.cursor()\n",
    "\n",
    "query = \"Query Inserted Here\"\n",
    "\n",
    "cursor.execute(query,(enddate,startdate,startdate,enddate))\n",
    "\n",
    "\n",
    "results=cursor.fetchall()\n",
    "columns = ['Columns Pulled Here']\n",
    "df = pd.DataFrame(results,columns=columns)\n",
    "\n",
    "cursor.close()\n",
    "conn.close()\n",
    "\n",
    "# Save to a csv for the pulled month\n",
    "filename = f\"PulledMonth/{date}.csv\"\n",
    "df.to_csv(filename,index=False)\n"
   ]
  },
  {
   "attachments": {},
   "cell_type": "markdown",
   "metadata": {},
   "source": [
    "### Joined Months into one Dataset"
   ]
  },
  {
   "cell_type": "code",
   "execution_count": null,
   "metadata": {},
   "outputs": [],
   "source": [
    "# Get CSV files list from a folder\n",
    "path = \"PulledMonth\"\n",
    "csv_files = glob.glob(path + \"/*.csv\")\n",
    "\n",
    "# Read each CSV file into DataFrame\n",
    "# This creates a list of dataframes\n",
    "df_list = (pd.read_csv(file) for file in csv_files)\n",
    "\n",
    "# Concatenate all DataFrames\n",
    "df = pd.concat(df_list, ignore_index=True)"
   ]
  },
  {
   "attachments": {},
   "cell_type": "markdown",
   "metadata": {},
   "source": [
    "#### Data Cleaning"
   ]
  },
  {
   "cell_type": "code",
   "execution_count": null,
   "metadata": {},
   "outputs": [],
   "source": [
    "df['contract_end_date'] = pd.to_datetime(df.contract_end_date, format='%Y-%m-%d')\n",
    "df['month'] = df['contract_end_date'].dt.strftime('%m')\n",
    "df['year'] = df['contract_end_date'].dt.strftime('%Y')"
   ]
  },
  {
   "cell_type": "markdown",
   "metadata": {},
   "source": [
    "### Cleaning plan name mistakes"
   ]
  },
  {
   "cell_type": "code",
   "execution_count": null,
   "metadata": {},
   "outputs": [],
   "source": [
    "df.drop_duplicates(subset=['account number','End Date of Contract'],inplace=True)\n",
    "df.next_plan.replace({np.nan: 'None'},inplace=True)\n",
    "df.plan_name.replace({'Typo in Plan Name': 'Corrected Plan Name'},inplace=True)\n",
    "df.next_plan.replace({'Typo in Plan Name': 'Corrected Plan Name'},inplace=True)\n"
   ]
  },
  {
   "cell_type": "code",
   "execution_count": null,
   "metadata": {},
   "outputs": [],
   "source": [
    "df['contract_start_date'] = pd.to_datetime(df['contract start date'])"
   ]
  },
  {
   "cell_type": "code",
   "execution_count": null,
   "metadata": {},
   "outputs": [],
   "source": [
    "df['actual_end_date'] = df['contract start date'] + df['plan term'].apply(lambda x: pd.offsets.DateOffset(months=x))"
   ]
  },
  {
   "cell_type": "code",
   "execution_count": null,
   "metadata": {},
   "outputs": [],
   "source": [
    "df[['contract_start_date','actual_end_date','contract end date']] = df[['contract_start_date','actual_end_date','contract end date']].apply(pd.to_datetime)\n",
    "df['days_between'] = (df['actual_end_date']-df['contract end date']) / np.timedelta64(1, 'D')"
   ]
  },
  {
   "attachments": {},
   "cell_type": "markdown",
   "metadata": {},
   "source": [
    "#### Determine if they made it to the end of their Contract"
   ]
  },
  {
   "cell_type": "code",
   "execution_count": null,
   "metadata": {},
   "outputs": [],
   "source": [
    "def categorize(row):\n",
    "    if row['days_between'] < 7 and row['days_between'] > -60 and row['plan term'] > 6:\n",
    "        return 1\n",
    "    elif row['days_between'] < 7 and row['days_between'] > -30 and row['plan term'] <= 6:\n",
    "        return 1\n",
    "    return 0\n",
    "\n",
    "df['made_it_to_contract'] = df.apply(lambda row: categorize(row),axis=1)"
   ]
  },
  {
   "cell_type": "code",
   "execution_count": null,
   "metadata": {},
   "outputs": [],
   "source": [
    "df[['actual_end_date','contract_start_date','contract_end_date','plan_term','days_between','made_it_to_contract','next plan term']]"
   ]
  },
  {
   "cell_type": "code",
   "execution_count": null,
   "metadata": {},
   "outputs": [],
   "source": [
    "df.next_plan_term.fillna(0,inplace=True)"
   ]
  },
  {
   "attachments": {},
   "cell_type": "markdown",
   "metadata": {},
   "source": [
    "#### Next Term Length"
   ]
  },
  {
   "cell_type": "code",
   "execution_count": null,
   "metadata": {},
   "outputs": [],
   "source": [
    "# did the customer go to a longer term length, shorter, or same term length?\n",
    "def sametermlength(row):\n",
    "    if row['plan_term'] == row['next_plan_term']:\n",
    "        return 1\n",
    "    return 0\n",
    "df['same_term_length'] = df.apply(lambda row: sametermlength(row),axis=1)\n",
    "\n",
    "\n",
    "def shortertermlength(row):\n",
    "    if row['plan_term'] > row['next_plan_term']:\n",
    "        return 1\n",
    "    return 0\n",
    "df['shoter_term_length'] = df.apply(lambda row: shortertermlength(row),axis=1)\n",
    "\n",
    "def longertermlength(row):\n",
    "    if row['plan_term'] < row['next_plan_term']:\n",
    "        return 1\n",
    "    return 0\n",
    "df['longer_term_length'] = df.apply(lambda row: longertermlength(row),axis=1)\n",
    "\n",
    "def movedtovariable(row):\n",
    "    if (row['next_plan_term'] == 1 and ( row['next_plan'] != \"RollOff, Plan\")):\n",
    "        return 1\n",
    "    return 0\n",
    "df['moved_to_variable'] = df.apply(lambda row: movedtovariable(row),axis=1)\n",
    "\n",
    "# Did the customer renewed, rolled, or leave?\n",
    "def rolled(row):\n",
    "    if (row['next_plan'] == \"RollOff Plan\") :\n",
    "        return 1\n",
    "    return 0\n",
    "df['rolled'] = df.apply(lambda row: rolled(row),axis=1)\n",
    "\n",
    "def customer_left(row):\n",
    "    if row['next_plan_term'] == 0 or row['next_plan']=='None' or ['next_plan_term'] == np.nan or row['next_plan'] == '':\n",
    "        return 1\n",
    "    return 0\n",
    "df['customer_left'] = df.apply(lambda row: customer_left(row),axis=1)\n",
    "\n",
    "def customer_renewed(row):\n",
    "    if (row['next_plan_term'] > 1 ) :\n",
    "        return 1\n",
    "    return 0\n",
    "df['customer_renewed'] = df.apply(lambda row: customer_renewed(row),axis=1)\n",
    "\n",
    "\n",
    "# TermLengthChange\n",
    "def LongerTerm(row):\n",
    "    if (row['next_plan_term'] > row['plan_term']):\n",
    "        return 1\n",
    "    return 0\n",
    "df['LongerTerm'] = df.apply(lambda row: LongerTerm(row),axis=1)\n",
    "\n",
    "def ShorterTerm(row):\n",
    "    if (row['next_plan_term'] < row['plan_term'] and row['next_plan_term'] > 0 ) and (row['next_plan'] != \"RollOff, Plan\"):\n",
    "        return 1\n",
    "    return 0\n",
    "df['ShorterTerm'] = df.apply(lambda row: ShorterTerm(row),axis=1)\n",
    "\n",
    "def SameTerm(row):\n",
    "    if (row['next_plan_term'] == row['plan_term'] ):\n",
    "        return 1\n",
    "    return 0\n",
    "df['SameTerm'] = df.apply(lambda row: SameTerm(row),axis=1)\n",
    "\n",
    "def toVariable(row):\n",
    "    if (row['next_plan_term'] == 1 and (row['next_plan']!=\"RollOff, Plan\")):\n",
    "        return 1\n",
    "    return 0\n",
    "df['toVariable'] = df.apply(lambda row: toVariable(row),axis=1)"
   ]
  },
  {
   "cell_type": "code",
   "execution_count": null,
   "metadata": {},
   "outputs": [],
   "source": [
    "df['plan_name'].replace(\"RollOff, Plan\", \"RollOff Plan\",inplace=True)\n",
    "# df['plan_name'].replace(\"Simply Electricity, Y'all\", \"Simply Electricity Yall\",inplace=True)"
   ]
  },
  {
   "cell_type": "code",
   "execution_count": null,
   "metadata": {},
   "outputs": [],
   "source": [
    "df['plan_name'] = np.where((df['plan_name'] != 'RollOff Plan') & (df['plan_term'] == 1), \"Variable Plan\", df['plan_name'])\n",
    "df['next_plan'] = np.where((df['next_plan'] != 'RollOff Plan') & (df['next_plan_term'] == 1), \"Variable Plan\", df['next_plan'])"
   ]
  },
  {
   "attachments": {},
   "cell_type": "markdown",
   "metadata": {},
   "source": [
    "#### Query Filters for Each Section"
   ]
  },
  {
   "cell_type": "code",
   "execution_count": null,
   "metadata": {},
   "outputs": [],
   "source": [
    "queries = [\n",
    "    {\"query_name\":\"AllPlans\",\"conditions\":(df==df)},\n",
    "    {\"query_name\":\"FixedPlans\",\"conditions\":(df['plan_term'] != 1)},\n",
    "    {\"query_name\":\"EndofContract\",\"conditions\":(df['is_sherpa'] != \"y\") & (df['made_it_to_contract'] == 1) & (df['plan_term'] != 1) & (df['plan_name'] != \"RollOff Plan\")},\n",
    "    {\"query_name\":\"EarlyPlanChangers\",\"conditions\":(df['is_sherpa'] != \"y\") & (df['made_it_to_contract'] !=1) & (df['plan_term'] != 1) & (df['plan_name'] != \"RollOff Plan\")},\n",
    "    {\"query_name\":\"MTMPlan\",\"conditions\":(df['is_sherpa'] != \"y\") & (df['plan_term'] == 1) & (df['plan_name'] != \"RollOff Plan\")},   \n",
    "    {\"query_name\":\"RollOff Plan\",\"conditions\":( (df['plan_term'] == 1) & ((df['plan_name'] == \"RollOff Plan\")))}   \n",
    "]"
   ]
  },
  {
   "cell_type": "markdown",
   "metadata": {},
   "source": [
    "### Generating Pivot Tables and Exporting it to Excel Document"
   ]
  },
  {
   "cell_type": "code",
   "execution_count": null,
   "metadata": {},
   "outputs": [],
   "source": [
    "def create_and_export_pivot_tables(df,queries,output_excel_filename):\n",
    "    workbook= Workbook()\n",
    "    \n",
    "    for query in queries:\n",
    "            query_name = query['query_name']\n",
    "            conditions = query['conditions']\n",
    "            \n",
    "            filtered_df = df[conditions]\n",
    "            \n",
    "            month = pd.pivot_table(filtered_df, values=['account number','moved_to_variable','customer_renewed','customer_left','rolled','plan energy charge','next plan energy charge'], index=['year','month'],aggfunc= {'account number':'count','moved_to_variable':np.sum,'customer_renewed':np.sum,'customer_left':np.sum,'rolled':np.sum,'plan energy charge':np.mean,'next plan energy charge':np.mean},margins=True,dropna=False)\n",
    "            month = month.rename(columns = {'account number':'total'})\n",
    "            month['overall renewed #'] = ((month['moved_to_variable'])+ month['customer_renewed'])\n",
    "            month['% to Variable'] = ((month['moved_to_variable'] / month['total'])*100).apply(lambda x: round(x, 1))\n",
    "            month['% Contract Renewed'] = ((month['customer_renewed'] / month['total'])*100).apply(lambda x: round(x, 1))\n",
    "            month['% Overall Renewed'] = ((month['customer_renewed'] / month['total']) *100).apply(lambda x: round(x, 1)) + ((month['moved_to_variable'] / month['total'])*100).apply(lambda x: round(x, 1))\n",
    "            month['% Rolled'] = ((month['rolled'] / month['total'])*100 ).apply(lambda x: round(x, 1))\n",
    "            month['% Left'] = ((month['customer_left'] / month['total'])*100 ).apply(lambda x: round(x, 1))\n",
    "            month['Energy_Charge_Change'] = ((month['next plan energy charge'] - month['plan energy charge']))\n",
    "            cols = ['total','moved_to_variable','customer_renewed','overall renewed #','rolled','customer_left','% Contract Renewed','% to Variable','% Rolled','% Overall Renewed','% Left','plan energy charge','next plan energy charge','Energy_Charge_Change']\n",
    "            month = month[cols]\n",
    "            month = month.dropna()\n",
    "            \n",
    "            year = pd.pivot_table(filtered_df, values=['account number','moved_to_variable','customer_renewed','customer_left','rolled','plan energy charge','next plan energy charge'], index=['year'],aggfunc= {'account number':'count','moved_to_variable':np.sum,'customer_renewed':np.sum,'customer_left':np.sum,'rolled':np.sum,'plan energy charge':np.mean,'next plan energy charge':np.mean},margins=True,dropna=False)\n",
    "            year = year.rename(columns = {'account number':'total'})\n",
    "            year['overall renewed #'] = ((year['moved_to_variable'])+ year['customer_renewed'])\n",
    "            year['% to Variable'] = ((year['moved_to_variable'] / year['total'])*100).apply(lambda x: round(x, 1))\n",
    "            year['% Rolled'] = ((year['rolled'] / year['total'])*100).apply(lambda x: round(x, 1))\n",
    "            year['% Contract Renewed'] = ((year['customer_renewed'] / year['total'])*100).apply(lambda x: round(x, 1))\n",
    "            year['% Overall Renewed'] = ((year['customer_renewed'] / year['total']) *100).apply(lambda x: round(x, 1)) + ((year['moved_to_variable']/year['total'])*100).apply(lambda x: round(x, 1))\n",
    "            year['% Left'] = ((year['customer_left'] / year['total'])*100).apply(lambda x: round(x, 1))\n",
    "            year['Energy_Charge_Change'] = ((year['next plan energy charge'] - year['plan energy charge']))\n",
    "            cols = ['total','moved_to_variable','customer_renewed','overall renewed #','rolled','customer_left','% Contract Renewed','% to Variable','% Rolled','% Overall Renewed','% Left','plan energy charge','next plan energy charge','Energy_Charge_Change']\n",
    "            year = year[cols]\n",
    "            year = year.dropna()\n",
    "\n",
    "            sheet = workbook.create_sheet(title=query_name)\n",
    "            \n",
    "            for row_data in dataframe_to_rows(year,index=True,header=True): \n",
    "                sheet.append(row_data)\n",
    "                \n",
    "            for _ in range (4):\n",
    "                sheet.append([])\n",
    "                \n",
    "            for row_data in dataframe_to_rows(month,index=True,header=True): \n",
    "                sheet.append(row_data)\n",
    "            \n",
    "    workbook.remove(workbook.active)\n",
    "    workbook.save(output_excel_filename)\n",
    "output_excel_filename = f'Renewals Report From may2022 to {date}.xlsx'\n",
    "create_and_export_pivot_tables(df, queries,output_excel_filename)        \n",
    "            "
   ]
  }
 ],
 "metadata": {
  "kernelspec": {
   "display_name": "Main",
   "language": "python",
   "name": "python3"
  },
  "language_info": {
   "codemirror_mode": {
    "name": "ipython",
    "version": 3
   },
   "file_extension": ".py",
   "mimetype": "text/x-python",
   "name": "python",
   "nbconvert_exporter": "python",
   "pygments_lexer": "ipython3",
   "version": "3.11.3"
  },
  "orig_nbformat": 4
 },
 "nbformat": 4,
 "nbformat_minor": 2
}
